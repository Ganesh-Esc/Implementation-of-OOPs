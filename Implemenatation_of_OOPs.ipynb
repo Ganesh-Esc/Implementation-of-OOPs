{
  "nbformat": 4,
  "nbformat_minor": 0,
  "metadata": {
    "colab": {
      "provenance": [],
      "authorship_tag": "ABX9TyMrP1gOK2EBAOtNVwm6ciFJ",
      "include_colab_link": true
    },
    "kernelspec": {
      "name": "python3",
      "display_name": "Python 3"
    },
    "language_info": {
      "name": "python"
    }
  },
  "cells": [
    {
      "cell_type": "markdown",
      "metadata": {
        "id": "view-in-github",
        "colab_type": "text"
      },
      "source": [
        "<a href=\"https://colab.research.google.com/github/Ganesh-Esc/Implementation-of-OOPs/blob/main/Implemenatation_of_OOPs.ipynb\" target=\"_parent\"><img src=\"https://colab.research.google.com/assets/colab-badge.svg\" alt=\"Open In Colab\"/></a>"
      ]
    },
    {
      "cell_type": "markdown",
      "source": [
        "Python is popular cause it supports Procedural, Functional and Object oriented Programming"
      ],
      "metadata": {
        "id": "MJi0ypdP8dVG"
      }
    },
    {
      "cell_type": "markdown",
      "source": [
        "In real World everything is a object. Objects are real world entities. Every Object has attributes and some certain behaviour"
      ],
      "metadata": {
        "id": "tKlun41j815q"
      }
    },
    {
      "cell_type": "markdown",
      "source": [
        "In oops if you consider objects: variables are attributes and behaviour is methods and here methods are functions"
      ],
      "metadata": {
        "id": "AYz2Y9g49Eep"
      }
    },
    {
      "cell_type": "markdown",
      "source": [
        "for any product what is so important is design of the product and that design is class. So class is design and Blue Print of the object"
      ],
      "metadata": {
        "id": "WDNy-3Be9XgJ"
      }
    },
    {
      "cell_type": "markdown",
      "source": [
        "Objects are instances of the class."
      ],
      "metadata": {
        "id": "aRhgmOhJ-AyR"
      }
    },
    {
      "cell_type": "markdown",
      "source": [
        "I want to work with computer so let's say comp1 so far we had  integer, string,etc we don't have computer so need to develop a class"
      ],
      "metadata": {
        "id": "7ktnKxXE-Eih"
      }
    },
    {
      "cell_type": "markdown",
      "source": [],
      "metadata": {
        "id": "zb7H2BPE-Up1"
      }
    },
    {
      "cell_type": "code",
      "source": [
        "class Computer:\n",
        "  def config(self):\n",
        "    print(\"i5,16gb, 1TB\")\n",
        "a=8\n",
        "print(type(a))\n",
        "\n",
        "com1=Computer()\n",
        "com2=Computer()\n",
        "print(type(com1))\n"
      ],
      "metadata": {
        "colab": {
          "base_uri": "https://localhost:8080/"
        },
        "id": "b2EPQScm-EQ7",
        "outputId": "7318bf37-903c-4236-97b3-86bfa39cbfc5"
      },
      "execution_count": 7,
      "outputs": [
        {
          "output_type": "stream",
          "name": "stdout",
          "text": [
            "<class 'int'>\n",
            "<class '__main__.Computer'>\n"
          ]
        }
      ]
    },
    {
      "cell_type": "markdown",
      "source": [
        "a is object of integer class but int is a in built class"
      ],
      "metadata": {
        "id": "L2xziApo_IKH"
      }
    },
    {
      "cell_type": "code",
      "source": [
        "config()"
      ],
      "metadata": {
        "colab": {
          "base_uri": "https://localhost:8080/"
        },
        "id": "uBNlGecS973s",
        "outputId": "1a1c2382-1655-413c-bb7b-368c6fab7ec4"
      },
      "execution_count": 3,
      "outputs": [
        {
          "output_type": "stream",
          "name": "stderr",
          "text": [
            "UsageError: Invalid config statement: '()', should be `Class.trait = value`.\n"
          ]
        }
      ]
    },
    {
      "cell_type": "markdown",
      "source": [
        "in order to access method you need to mention where it belong to"
      ],
      "metadata": {
        "id": "RoJIABRS_dud"
      }
    },
    {
      "cell_type": "code",
      "source": [
        "Computer.config()"
      ],
      "metadata": {
        "colab": {
          "base_uri": "https://localhost:8080/",
          "height": 141
        },
        "id": "hLAzc_Uh_kx3",
        "outputId": "42433ade-9ca6-47d2-ca30-0271e924785c"
      },
      "execution_count": 4,
      "outputs": [
        {
          "output_type": "error",
          "ename": "TypeError",
          "evalue": "Computer.config() missing 1 required positional argument: 'self'",
          "traceback": [
            "\u001b[0;31m---------------------------------------------------------------------------\u001b[0m",
            "\u001b[0;31mTypeError\u001b[0m                                 Traceback (most recent call last)",
            "\u001b[0;32m/tmp/ipython-input-4-2077082932.py\u001b[0m in \u001b[0;36m<cell line: 0>\u001b[0;34m()\u001b[0m\n\u001b[0;32m----> 1\u001b[0;31m \u001b[0mComputer\u001b[0m\u001b[0;34m.\u001b[0m\u001b[0mconfig\u001b[0m\u001b[0;34m(\u001b[0m\u001b[0;34m)\u001b[0m\u001b[0;34m\u001b[0m\u001b[0;34m\u001b[0m\u001b[0m\n\u001b[0m",
            "\u001b[0;31mTypeError\u001b[0m: Computer.config() missing 1 required positional argument: 'self'"
          ]
        }
      ]
    },
    {
      "cell_type": "markdown",
      "source": [
        "Every class will have lot of objects so you need to mention object as argument"
      ],
      "metadata": {
        "id": "nqy3rpyO_qyc"
      }
    },
    {
      "cell_type": "code",
      "source": [
        "Computer.config(com1)\n",
        "Computer.config(com2)"
      ],
      "metadata": {
        "colab": {
          "base_uri": "https://localhost:8080/"
        },
        "id": "l8V3gv0-_35f",
        "outputId": "e02421dc-8c48-4e61-d9fc-cd0e4b43c366"
      },
      "execution_count": 8,
      "outputs": [
        {
          "output_type": "stream",
          "name": "stdout",
          "text": [
            "i5,16gb, 1TB\n",
            "i5,16gb, 1TB\n"
          ]
        }
      ]
    },
    {
      "cell_type": "markdown",
      "source": [
        "hey computer show me config for com1 like this we are calling and there is one more way where you can use object to call method\n"
      ],
      "metadata": {
        "id": "JSLE43NDARgR"
      }
    },
    {
      "cell_type": "code",
      "source": [
        "com1.config()\n",
        "com2.config()"
      ],
      "metadata": {
        "colab": {
          "base_uri": "https://localhost:8080/"
        },
        "id": "S0JzZnNoAgu-",
        "outputId": "ec936520-ba2e-4141-82a7-26c1a9c119eb"
      },
      "execution_count": 9,
      "outputs": [
        {
          "output_type": "stream",
          "name": "stdout",
          "text": [
            "i5,16gb, 1TB\n",
            "i5,16gb, 1TB\n"
          ]
        }
      ]
    },
    {
      "cell_type": "markdown",
      "source": [
        "remember when you call config() by default it has com1 as arugument and that goes to the self argument so no of arguments got matched."
      ],
      "metadata": {
        "id": "_cpoPz1CEyCx"
      }
    },
    {
      "cell_type": "markdown",
      "source": [
        "Behind this the method config takes com1 and com2 as arguments as self"
      ],
      "metadata": {
        "id": "sNyekjTKAlbv"
      }
    },
    {
      "cell_type": "code",
      "source": [
        "a=5\n",
        "a.bit_count()"
      ],
      "metadata": {
        "id": "PY9NR2XrAxzr"
      },
      "execution_count": null,
      "outputs": []
    },
    {
      "cell_type": "markdown",
      "source": [
        "and here the bit length function will takes a as an argument to self\n",
        "\n",
        "---\n",
        "\n"
      ],
      "metadata": {
        "id": "f8B-pUnaBExt"
      }
    },
    {
      "cell_type": "markdown",
      "source": [
        "More technically"
      ],
      "metadata": {
        "id": "3Yj5mSKaBrX2"
      }
    },
    {
      "cell_type": "markdown",
      "source": [
        " In Python, this first argument is conventionally named self. So, a.bit_count() is essentially a shorthand for calling the bit_count method of the int class and passing a as the instance on which the method should operate."
      ],
      "metadata": {
        "id": "DQy1dsNDBuqz"
      }
    },
    {
      "cell_type": "code",
      "source": [
        "class Computer:\n",
        "  def __init__(self):\n",
        "    print('in init')\n",
        "  def config(self):\n",
        "    print(\"i5,16gb,1Tb\")\n",
        "com1=Computer()\n",
        "com2=Computer()\n",
        "\n",
        "com1.config()\n",
        "com2.config()\n",
        ""
      ],
      "metadata": {
        "colab": {
          "base_uri": "https://localhost:8080/"
        },
        "id": "BNMdbnurCc5B",
        "outputId": "86552171-6f7e-4c3b-ed64-1846be6e6acd"
      },
      "execution_count": 16,
      "outputs": [
        {
          "output_type": "stream",
          "name": "stdout",
          "text": [
            "in init\n",
            "in init\n",
            "i5,16gb,1Tb\n",
            "i5,16gb,1Tb\n"
          ]
        }
      ]
    },
    {
      "cell_type": "markdown",
      "source": [
        "The __init__ method is a special constructor that Python automatically calls when you create a new instance of a class. remember it should be written as double unnderscores"
      ],
      "metadata": {
        "id": "BIagUgI3EDnP"
      }
    },
    {
      "cell_type": "code",
      "source": [
        "class Computer:\n",
        "  def __init__(self,cpu,ram):\n",
        "    self.cpu=cpu\n",
        "    self.ram=ram\n",
        "\n",
        "  def config(self):\n",
        "    print(\"i5,16gb,1Tb\")\n",
        "com1=Computer('i5',16)\n",
        "com2=Computer('Ryzen',8)\n",
        "com1.cpu\n",
        "com1.config()\n",
        "com2.config()\n",
        ""
      ],
      "metadata": {
        "colab": {
          "base_uri": "https://localhost:8080/"
        },
        "id": "3Qflwh8FEXm9",
        "outputId": "4cbb47ef-abb1-44e0-af2d-4d0442552ae0"
      },
      "execution_count": 19,
      "outputs": [
        {
          "output_type": "stream",
          "name": "stdout",
          "text": [
            "i5,16gb,1Tb\n",
            "i5,16gb,1Tb\n"
          ]
        }
      ]
    },
    {
      "cell_type": "markdown",
      "source": [
        "here you created an instance with two parameters com1=Computer('i5',16) but by default it passes three arguments as (com1,'i5',16) so here again no of parameters matched"
      ],
      "metadata": {
        "id": "C7IJbszWF_49"
      }
    },
    {
      "cell_type": "markdown",
      "source": [
        "and in the __init__ method -> the init method if you want to initialise a variable and every object need to have a value and if you want it to be part of our object we will assign with self cause self is our object.\n"
      ],
      "metadata": {
        "id": "goeqYbwGH4TX"
      }
    },
    {
      "cell_type": "code",
      "source": [
        "class Computer:\n",
        "  def __init__(self,cpu,ram):\n",
        "    self.cpu=cpu\n",
        "    self.ram=ram\n",
        "\n",
        "  def config(self):\n",
        "    print(\"config of  \",self.cpu,self.ram)\n",
        "com1=Computer('i5',16)\n",
        "com2=Computer('Ryzen',8)\n",
        "\n",
        "com1.config()\n",
        "com2.config()\n",
        ""
      ],
      "metadata": {
        "colab": {
          "base_uri": "https://localhost:8080/"
        },
        "id": "L0Igxc32TYoZ",
        "outputId": "b688c181-e871-439a-cf55-51c9f27d1a85"
      },
      "execution_count": 26,
      "outputs": [
        {
          "output_type": "stream",
          "name": "stdout",
          "text": [
            "config of   i5 16\n",
            "config of   Ryzen 8\n"
          ]
        }
      ]
    },
    {
      "cell_type": "markdown",
      "source": [
        "here data and methods are working together but we are binding the data with the methods\n"
      ],
      "metadata": {
        "id": "e7ahPdqpURYW"
      }
    },
    {
      "cell_type": "markdown",
      "source": [
        "Detailed Info on Constructor and self"
      ],
      "metadata": {
        "id": "VnR41MItUqz7"
      }
    },
    {
      "cell_type": "code",
      "source": [
        "class Computer:\n",
        "  pass\n",
        "\n",
        "c1=Computer()\n",
        "print(id(c1))\n",
        "c2=Computer()\n",
        "print(id(c2))\n"
      ],
      "metadata": {
        "colab": {
          "base_uri": "https://localhost:8080/"
        },
        "id": "kdoG9iteUcyi",
        "outputId": "eb397c6c-53ad-4bad-9669-7dc3ee4beb1f"
      },
      "execution_count": 29,
      "outputs": [
        {
          "output_type": "stream",
          "name": "stdout",
          "text": [
            "138157786839184\n",
            "138157790619920\n"
          ]
        }
      ]
    },
    {
      "cell_type": "markdown",
      "source": [
        "in our system we have a special memory called heap memory And in heap memory all the objects are stored and objects will take some space and every space has address"
      ],
      "metadata": {
        "id": "0G6vY7TTU0pT"
      }
    },
    {
      "cell_type": "markdown",
      "source": [
        "And every time you run the code you will get different address not the same address. It means every time you create an object it will create new space for it."
      ],
      "metadata": {
        "id": "EFrSoa9RV4s5"
      }
    },
    {
      "cell_type": "markdown",
      "source": [
        "but who will decide the size of the object? the size of the object is depend upon the no of variables and size of the variables. but who is responsible for assigning that memory?\n"
      ],
      "metadata": {
        "id": "Ow8TWlt5WNZJ"
      }
    },
    {
      "cell_type": "markdown",
      "source": [
        "that's your constructor"
      ],
      "metadata": {
        "id": "rhlhfFvbWfXH"
      }
    },
    {
      "cell_type": "markdown",
      "source": [
        "c1=Computer() -> this is constructor and whenever a constructor is created it will call init method for you. You no need to mention it will call internally"
      ],
      "metadata": {
        "id": "-qR-Z9zQWwvj"
      }
    },
    {
      "cell_type": "code",
      "source": [
        "class Computer:\n",
        "  def __init__(self):\n",
        "    self.name='Ganesh'\n",
        "    self.age=22\n",
        "  def update(self):\n",
        "    self.age=23\n",
        "\n",
        "c1=Computer()\n",
        "c2=Computer()\n",
        "c1.name\n",
        "c1.name='Balu'\n",
        "c1.name\n",
        "\n",
        "#and now without access operator you want to update age so we will call update method by using dot operator\n",
        "c1.update()\n",
        "c1.age\n",
        "#but here why update method has self as an argument ? cause if you write c1.update() it means you are calling the method for the object c1\n",
        "#but in the claass there are 2 objects so to we are not passing any parameter for the object the method  update doesn't\n",
        "#know on which on which object it has to perform to let the method update() know we are mentioning self as an argument in the method"
      ],
      "metadata": {
        "colab": {
          "base_uri": "https://localhost:8080/"
        },
        "id": "jl07VX0oYqmH",
        "outputId": "af118592-2f5c-4225-c96b-b38167281c72"
      },
      "execution_count": 36,
      "outputs": [
        {
          "output_type": "execute_result",
          "data": {
            "text/plain": [
              "23"
            ]
          },
          "metadata": {},
          "execution_count": 36
        }
      ]
    },
    {
      "cell_type": "code",
      "source": [
        "class Computer:\n",
        "  def __init__(self):\n",
        "    self.name='Ganesh'\n",
        "    self.age=22\n",
        "  def update(self):\n",
        "    self.age=23\n",
        "  def compare(self,other):\n",
        "    if self.age==other.age:\n",
        "      return True\n",
        "    else:\n",
        "      return False\n",
        "\n",
        "c1=Computer()\n",
        "c2=Computer()\n",
        "c1.compare(c2)"
      ],
      "metadata": {
        "colab": {
          "base_uri": "https://localhost:8080/"
        },
        "id": "l760sIMcZ7xJ",
        "outputId": "9946922b-f4a7-4e61-f876-a9107ce99f04"
      },
      "execution_count": 38,
      "outputs": [
        {
          "output_type": "execute_result",
          "data": {
            "text/plain": [
              "True"
            ]
          },
          "metadata": {},
          "execution_count": 38
        }
      ]
    },
    {
      "cell_type": "markdown",
      "source": [
        "here c1 is pointed by the parameter self and c2 is pointed by the other -> compare(who is calling, whom to compare)"
      ],
      "metadata": {
        "id": "0YapMVZecCZ_"
      }
    },
    {
      "cell_type": "markdown",
      "source": [
        "Variables"
      ],
      "metadata": {
        "id": "4TClvzJVc4YC"
      }
    },
    {
      "cell_type": "markdown",
      "source": [
        "\n",
        "\n",
        "*   In oops we have 2 types of variables one is instance variable\n",
        "*   and the other is class variable or static variable\n",
        "\n"
      ],
      "metadata": {
        "id": "dKAHHCSjc6Yu"
      }
    },
    {
      "cell_type": "markdown",
      "source": [
        "The variables which you intialise inside an __init__ class are called instance variables and outside of them are static variables"
      ],
      "metadata": {
        "id": "iLy_Vi77ycdJ"
      }
    },
    {
      "cell_type": "markdown",
      "source": [
        "Instance varaibles are changable and static aren't. and Instance variables are can be accesed by using object name and static variables are accessed by both object and class names"
      ],
      "metadata": {
        "id": "zzwRqP3cyrPL"
      }
    },
    {
      "cell_type": "code",
      "source": [
        "class car:\n",
        "  wheels=4\n",
        "  def __init__(self):\n",
        "    self.mileage=10\n",
        "    self.company='BMW'\n",
        "\n",
        "\n",
        "c1=car()\n",
        "c2=car()\n",
        "c1.mileage=9\n",
        "print(c1.mileage,c1.company,c1.wheels)\n",
        "print(c2.mileage,c2.company,car.wheels)"
      ],
      "metadata": {
        "colab": {
          "base_uri": "https://localhost:8080/"
        },
        "id": "OReuKdMacsn_",
        "outputId": "db98ae3d-4140-4c9a-b7bc-184fbc3c7551"
      },
      "execution_count": 46,
      "outputs": [
        {
          "output_type": "stream",
          "name": "stdout",
          "text": [
            "9 BMW 4\n",
            "10 BMW 4\n"
          ]
        }
      ]
    },
    {
      "cell_type": "markdown",
      "source": [
        "In your memory you will be having different namespaces. Namespace is a place where you create and storeobject/variable"
      ],
      "metadata": {
        "id": "ya9xEudQ1iUZ"
      }
    },
    {
      "cell_type": "markdown",
      "source": [
        "we have two namespaces one is class namespace and other is Object namespace"
      ],
      "metadata": {
        "id": "QexikwP4120E"
      }
    },
    {
      "cell_type": "markdown",
      "source": [
        "so wheels is in class namespace and other in object namespace"
      ],
      "metadata": {
        "id": "oQuCIpuJ1_i5"
      }
    },
    {
      "cell_type": "markdown",
      "source": [
        "Type of Methods in Python"
      ],
      "metadata": {
        "id": "mVsWWVTh2LNA"
      }
    },
    {
      "cell_type": "markdown",
      "source": [
        "Instance Methods and other two are\n",
        "\n",
        "*   class Methods\n",
        "*   static Methods\n",
        "\n"
      ],
      "metadata": {
        "id": "rkWXKL582U9H"
      }
    },
    {
      "cell_type": "code",
      "source": [
        "class Student:\n",
        "  school='NIT Trichy'\n",
        "  def __init__(self,m1,m2,m3):\n",
        "    self.m1=m1\n",
        "    self.m2=m3\n",
        "    self.m3=m3\n",
        "  def avg(self):\n",
        "    return (self.m1+self.m2+self.m3)/3\n",
        "  def get_m1(self):\n",
        "    return self.m1\n",
        "  def set_m1(self,value):\n",
        "    self.m1=value\n",
        "  @classmethod\n",
        "  def info1(cls):\n",
        "    return cls.school\n",
        "  @staticmethod\n",
        "  def info():\n",
        "    print('this is student class')\n",
        "\n",
        "s1=Student(34,67,32)\n",
        "s2=Student(21,32,12)\n",
        "#s1.avg()\n",
        "Student.info1()\n",
        "\n"
      ],
      "metadata": {
        "colab": {
          "base_uri": "https://localhost:8080/",
          "height": 35
        },
        "id": "MySJDmtz2pNV",
        "outputId": "4587bfe9-72d5-4e7d-e85f-fb5a2e180e17"
      },
      "execution_count": 58,
      "outputs": [
        {
          "output_type": "execute_result",
          "data": {
            "text/plain": [
              "'NIT Trichy'"
            ],
            "application/vnd.google.colaboratory.intrinsic+json": {
              "type": "string"
            }
          },
          "metadata": {},
          "execution_count": 58
        }
      ]
    },
    {
      "cell_type": "markdown",
      "source": [
        "The avg() method is instance method cause it works with object"
      ],
      "metadata": {
        "id": "tvKD_EmQ38px"
      }
    },
    {
      "cell_type": "markdown",
      "source": [
        "get function will get us the values so they are called accessors"
      ],
      "metadata": {
        "id": "j0aAA2bM4ZBC"
      }
    },
    {
      "cell_type": "markdown",
      "source": [
        "set function will set us the value so they are called as mutators"
      ],
      "metadata": {
        "id": "JN7JJl484f-T"
      }
    },
    {
      "cell_type": "markdown",
      "source": [
        "if you are working with the instance methods you must mention self as argument and if you are working with static methods i.e., the methods which work on the static variables use 'cls' as argument"
      ],
      "metadata": {
        "id": "fyFI2xDi4_vW"
      }
    },
    {
      "cell_type": "markdown",
      "source": [
        "key point if you want to access the static method info using object s1 you can do that by using s1.info() but if you call Student.info() it will throw you an error saying one argument is missing"
      ],
      "metadata": {
        "id": "L8mXT9ex7D5v"
      }
    },
    {
      "cell_type": "markdown",
      "source": [
        "Why is that happening and what's the solution?????"
      ],
      "metadata": {
        "id": "xWwrjT0J7rO3"
      }
    },
    {
      "cell_type": "markdown",
      "source": [
        "Normally if you want to create a class function there is a special way i.e., using special word called @classmethod a decorator. That's how you define it."
      ],
      "metadata": {
        "id": "tqLZSlEP7vHF"
      }
    },
    {
      "cell_type": "markdown",
      "source": [
        "Now Static Method"
      ],
      "metadata": {
        "id": "38aGZOpx8OAJ"
      }
    },
    {
      "cell_type": "markdown",
      "source": [
        "For suppose if you want a method which has nothing to do class variables and instance varaibles and do something extra i.e., static method\n",
        "so in static methods we are not concerned about variables"
      ],
      "metadata": {
        "id": "P8G8CISa8RDY"
      }
    },
    {
      "cell_type": "markdown",
      "source": [
        "static methods are useful which works which are independent of variables"
      ],
      "metadata": {
        "id": "xmPjPnpsOFz-"
      }
    },
    {
      "cell_type": "markdown",
      "source": [
        "Can we have a class inside a class?\n"
      ],
      "metadata": {
        "id": "dgB7y7RKOTyo"
      }
    },
    {
      "cell_type": "markdown",
      "source": [],
      "metadata": {
        "id": "tF1eV6Bw5aD-"
      }
    },
    {
      "cell_type": "code",
      "source": [
        "class Student:\n",
        "  def __init__(self,name,rollno):\n",
        "    self.name=name\n",
        "    self.rollno=rollno\n",
        "  def show(self):\n",
        "    print(self.name,self.rollno)\n",
        "\n",
        "s1=Student('GAnesh',21)\n",
        "s2=Student('BAlu',15)\n",
        "s1.show()"
      ],
      "metadata": {
        "colab": {
          "base_uri": "https://localhost:8080/"
        },
        "id": "lXfUZRsC8ugD",
        "outputId": "d299b0d1-c768-47d7-e2f6-06a1ba37f66b"
      },
      "execution_count": 2,
      "outputs": [
        {
          "output_type": "stream",
          "name": "stdout",
          "text": [
            "GAnesh 21\n"
          ]
        }
      ]
    },
    {
      "cell_type": "markdown",
      "source": [
        "When you want to know about the laptop that a student uses. There are two options\n",
        "\n",
        "*   Passing the parameters and initilaising them through a method. But if you want to access it by parameters you need to pass lot of parameters i.e., brand,cpu etc.ideally it's not a good practice.\n",
        "*   so we are creating a class and we are creating that inside of student class cause laptops are used by students\n",
        "\n"
      ],
      "metadata": {
        "id": "al5v5yMaIbZ8"
      }
    },
    {
      "cell_type": "code",
      "source": [
        "class Student:\n",
        "  def __init__(self,name,rollno):\n",
        "    self.name=name\n",
        "    self.rollno=rollno\n",
        "    self.lap=self.Laptop()\n",
        "\n",
        "  def show(self):\n",
        "    print(self.name,self.rollno)\n",
        "\n",
        "\n",
        "  class Laptop:\n",
        "    def __init__(self):\n",
        "      self.brand='HP'\n",
        "      self.cpu='i5'\n",
        "      self.ram=8\n",
        "    def show(self):\n",
        "      print(self.brand,self.cpu,self.ram)\n",
        "\n",
        "s1=Student('GAnesh',21)\n",
        "s2=Student('BAlu',15)\n",
        "s1.show()\n",
        "lap1=s1.lap\n",
        "lap2=s2.lap\n",
        "print(id(lap1))\n",
        "print(id(lap2))"
      ],
      "metadata": {
        "colab": {
          "base_uri": "https://localhost:8080/"
        },
        "id": "Z7HmxaDxH1sr",
        "outputId": "70265390-84fa-4a41-cb8a-c45ef2a00f62"
      },
      "execution_count": 3,
      "outputs": [
        {
          "output_type": "stream",
          "name": "stdout",
          "text": [
            "GAnesh 21\n",
            "135114564417808\n",
            "135114564539280\n"
          ]
        }
      ]
    },
    {
      "cell_type": "markdown",
      "source": [
        "We are creating the object for laptop inside the init method normally that's the approach"
      ],
      "metadata": {
        "id": "K2VCV7O9JxHM"
      }
    },
    {
      "cell_type": "markdown",
      "source": [
        "Key Points\n",
        "\n",
        "*   You can create object of inner class inside the outer class\n",
        "*   You can create object of inner class outside the outer class provided you use outer class name to call it\n",
        "\n"
      ],
      "metadata": {
        "id": "mZXjp-5GKtSI"
      }
    },
    {
      "cell_type": "code",
      "source": [
        "lap1=Student.Laptop()\n",
        "lap2=Student.Laptop()\n",
        "print(id(lap1))\n",
        "print(id(lap2))"
      ],
      "metadata": {
        "colab": {
          "base_uri": "https://localhost:8080/"
        },
        "id": "xSOkROhoLIC3",
        "outputId": "7e938981-5932-4674-d9d0-4ca64cddf52e"
      },
      "execution_count": 5,
      "outputs": [
        {
          "output_type": "stream",
          "name": "stdout",
          "text": [
            "135114564282384\n",
            "135114685396560\n"
          ]
        }
      ]
    },
    {
      "cell_type": "markdown",
      "source": [
        "INHERITANCE IN PYTHON"
      ],
      "metadata": {
        "id": "0uWJZ9DaLnbM"
      }
    },
    {
      "cell_type": "code",
      "source": [
        "class A:\n",
        "  def feature1(self):\n",
        "    print('feature 1 working')\n",
        "  def feature2(self):\n",
        "    print('feature 2 working')\n",
        "class B(A):\n",
        "  def feature3(self):\n",
        "    print('feature 3 working')\n",
        "  def feature4(self):\n",
        "    print('feature 4 working')\n",
        "\n",
        "a1=A()\n",
        "a1.feature1\n",
        "b1=B()\n",
        "b1.feature2\n",
        "b1.feature1\n",
        "b1.feature4"
      ],
      "metadata": {
        "colab": {
          "base_uri": "https://localhost:8080/",
          "height": 103
        },
        "id": "RFCMRNDGRS4X",
        "outputId": "c298df72-399d-4962-8f27-8d74b18c8afb"
      },
      "execution_count": 8,
      "outputs": [
        {
          "output_type": "execute_result",
          "data": {
            "text/plain": [
              "<bound method B.feature4 of <__main__.B object at 0x7ae2c3f465d0>>"
            ],
            "text/html": [
              "<div style=\"max-width:800px; border: 1px solid var(--colab-border-color);\"><style>\n",
              "      pre.function-repr-contents {\n",
              "        overflow-x: auto;\n",
              "        padding: 8px 12px;\n",
              "        max-height: 500px;\n",
              "      }\n",
              "\n",
              "      pre.function-repr-contents.function-repr-contents-collapsed {\n",
              "        cursor: pointer;\n",
              "        max-height: 100px;\n",
              "      }\n",
              "    </style>\n",
              "    <pre style=\"white-space: initial; background:\n",
              "         var(--colab-secondary-surface-color); padding: 8px 12px;\n",
              "         border-bottom: 1px solid var(--colab-border-color);\"><b>B.feature4</b><br/>def feature4()</pre><pre class=\"function-repr-contents function-repr-contents-collapsed\" style=\"\"><a class=\"filepath\" style=\"display:none\" href=\"#\">/tmp/ipython-input-8-3946103933.py</a>&lt;no docstring&gt;</pre></div>"
            ]
          },
          "metadata": {},
          "execution_count": 8
        }
      ]
    },
    {
      "cell_type": "markdown",
      "source": [
        "Accessing\n",
        "When you access a method without parentheses, you are just pointing to the method itself. No code inside the method is run."
      ],
      "metadata": {
        "id": "sn7bTnhBtq65"
      }
    },
    {
      "cell_type": "markdown",
      "source": [
        "Calling\n",
        "When you add parentheses () to the method name, you are executing the code inside it."
      ],
      "metadata": {
        "id": "ossnGydgtwF6"
      }
    },
    {
      "cell_type": "code",
      "source": [
        "class A:\n",
        "  def feature1(self):\n",
        "    print('feature 1 working')\n",
        "  def feature2(self):\n",
        "    print('feature 2 working')\n",
        "class B(A):\n",
        "  def feature3(self):\n",
        "    print('feature 3 working')\n",
        "  def feature4(self):\n",
        "    print('feature 4 working')\n",
        "\n",
        "a1=A()\n",
        "a1.feature1()\n",
        "b1=B()\n",
        "b1.feature2()\n",
        "b1.feature1()\n",
        "b1.feature4()"
      ],
      "metadata": {
        "colab": {
          "base_uri": "https://localhost:8080/"
        },
        "id": "c0M_EJyYtzF1",
        "outputId": "d4df2668-3e28-4d1b-cf37-2a25fc9127bc"
      },
      "execution_count": 1,
      "outputs": [
        {
          "output_type": "stream",
          "name": "stdout",
          "text": [
            "feature 1 working\n",
            "feature 2 working\n",
            "feature 1 working\n",
            "feature 4 working\n"
          ]
        }
      ]
    },
    {
      "cell_type": "markdown",
      "source": [
        "class B is child class or sub class where as Class A is parent class or super class\n"
      ],
      "metadata": {
        "id": "9U3HEcDIuJfI"
      }
    },
    {
      "cell_type": "markdown",
      "source": [
        "This is single level inheritance"
      ],
      "metadata": {
        "id": "_h5ZCy1lvBtd"
      }
    },
    {
      "cell_type": "markdown",
      "source": [
        "Now Multi Level Inheritance"
      ],
      "metadata": {
        "id": "f8xYja0Hvphk"
      }
    },
    {
      "cell_type": "code",
      "source": [
        "class A:\n",
        "  def feature1(self):\n",
        "    print('feature 1 working')\n",
        "  def feature2(self):\n",
        "    print('feature 2 working')\n",
        "class B(A):\n",
        "  def feature3(self):\n",
        "    print('feature 3 working')\n",
        "  def feature4(self):\n",
        "    print('feature 4 working')\n",
        "class C(B):\n",
        "  def feature5(self):\n",
        "    print('feature 5 working')\n",
        "\n",
        "a1=A()\n",
        "a1.feature1()\n",
        "b1=B()\n",
        "b1.feature2()\n",
        "b1.feature1()\n",
        "b1.feature4()\n",
        "c1=C()\n",
        "c1.feature1()"
      ],
      "metadata": {
        "colab": {
          "base_uri": "https://localhost:8080/"
        },
        "id": "fy_R22qcvFWC",
        "outputId": "9e9eb10d-8f91-42e2-d71d-afdf06310ab5"
      },
      "execution_count": 2,
      "outputs": [
        {
          "output_type": "stream",
          "name": "stdout",
          "text": [
            "feature 1 working\n",
            "feature 2 working\n",
            "feature 1 working\n",
            "feature 4 working\n",
            "feature 1 working\n"
          ]
        }
      ]
    },
    {
      "cell_type": "markdown",
      "source": [
        "Multiple Inheritance"
      ],
      "metadata": {
        "id": "5TRS0Mucvtqc"
      }
    },
    {
      "cell_type": "code",
      "source": [
        "class A:\n",
        "  def feature1(self):\n",
        "    print('feature 1 working')\n",
        "  def feature2(self):\n",
        "    print('feature 2 working')\n",
        "class B:\n",
        "  def feature3(self):\n",
        "    print('feature 3 working')\n",
        "  def feature4(self):\n",
        "    print('feature 4 working')\n",
        "class C(A,B):\n",
        "  def feature5(self):\n",
        "    print('feature 5 working')\n",
        "\n",
        "a1=A()\n",
        "a1.feature1()\n",
        "b1=B()\n",
        "#b1.feature2()\n",
        "#b1.feature1()\n",
        "b1.feature4()\n",
        "c1=C()\n",
        "c1.feature1()"
      ],
      "metadata": {
        "colab": {
          "base_uri": "https://localhost:8080/"
        },
        "id": "-YUg5EYQvvv_",
        "outputId": "46e112f5-e02a-4c38-d141-c2d469081d73"
      },
      "execution_count": 3,
      "outputs": [
        {
          "output_type": "stream",
          "name": "stdout",
          "text": [
            "feature 1 working\n",
            "feature 4 working\n",
            "feature 1 working\n"
          ]
        }
      ]
    },
    {
      "cell_type": "markdown",
      "source": [
        "Constructor in Inheritance in Python and Method Resolution Order"
      ],
      "metadata": {
        "id": "caX3krjkwAmo"
      }
    },
    {
      "cell_type": "code",
      "source": [
        "class A:\n",
        "  def __init__(self):\n",
        "    print('in A init')\n",
        "  def feature1(self):\n",
        "    print('feature 1 working')\n",
        "  def feature2(self):\n",
        "    print('feature 2 working')\n",
        "class B(A):\n",
        "  def feature3(self):\n",
        "    print('feature 3 working')\n",
        "  def feature4(self):\n",
        "    print('feature 4 working')\n",
        "\n",
        "#a1=A()\n",
        "b1=B()\n",
        "\n"
      ],
      "metadata": {
        "colab": {
          "base_uri": "https://localhost:8080/"
        },
        "id": "ZNkv1EiswF_q",
        "outputId": "cae8d4b3-e225-4e49-c84e-5dae40119b1f"
      },
      "execution_count": 6,
      "outputs": [
        {
          "output_type": "stream",
          "name": "stdout",
          "text": [
            "in A init\n"
          ]
        }
      ]
    },
    {
      "cell_type": "markdown",
      "source": [
        "even if you call class B it still calls the constructor of A here class B don't have init method so it goes to A What if you have an init method in class B"
      ],
      "metadata": {
        "id": "dQtHoPvWBTXN"
      }
    },
    {
      "cell_type": "code",
      "source": [
        "class A:\n",
        "  def __init__(self):\n",
        "    print('in A init')\n",
        "  def feature1(self):\n",
        "    print('feature 1 working')\n",
        "  def feature2(self):\n",
        "    print('feature 2 working')\n",
        "class B(A):\n",
        "  def __init__(self):\n",
        "    print('in B init')\n",
        "  def feature3(self):\n",
        "    print('feature 3 working')\n",
        "  def feature4(self):\n",
        "    print('feature 4 working')\n",
        "\n",
        "#a1=A()\n",
        "b1=B()\n",
        "\n"
      ],
      "metadata": {
        "colab": {
          "base_uri": "https://localhost:8080/"
        },
        "id": "k8p9t8XkB3y-",
        "outputId": "86ad8557-39a0-4bb6-9b96-e50f4823f77a"
      },
      "execution_count": 7,
      "outputs": [
        {
          "output_type": "stream",
          "name": "stdout",
          "text": [
            "in B init\n"
          ]
        }
      ]
    },
    {
      "cell_type": "markdown",
      "source": [
        "it means if you create a object of B first it will try to implement init of B first what if you want to call init of A?\n"
      ],
      "metadata": {
        "id": "1ol8vUMlCENt"
      }
    },
    {
      "cell_type": "markdown",
      "source": [
        "for that we have a special key word called super basically it is a super method"
      ],
      "metadata": {
        "id": "DTSZ27TKCUva"
      }
    },
    {
      "cell_type": "code",
      "source": [
        "class A:\n",
        "  def __init__(self):\n",
        "    print('in A init')\n",
        "  def feature1(self):\n",
        "    print('feature 1 working')\n",
        "  def feature2(self):\n",
        "    print('feature 2 working')\n",
        "class B(A):\n",
        "  def __init__(self):\n",
        "    super().__init__()\n",
        "    print('in B init')\n",
        "  def feature3(self):\n",
        "    print('feature 3 working')\n",
        "  def feature4(self):\n",
        "    print('feature 4 working')\n",
        "\n",
        "#a1=A()\n",
        "b1=B()\n",
        "\n"
      ],
      "metadata": {
        "colab": {
          "base_uri": "https://localhost:8080/"
        },
        "id": "yxRxSVYNCQnc",
        "outputId": "76fa1b78-73e4-443c-da92-202ef508272b"
      },
      "execution_count": 9,
      "outputs": [
        {
          "output_type": "stream",
          "name": "stdout",
          "text": [
            "in B init\n",
            "in A init\n"
          ]
        }
      ]
    },
    {
      "cell_type": "markdown",
      "source": [
        "conclusion\n",
        "\n",
        "*   when you create object of subclass it will call init of sub class first\n",
        "*   if you have call super then it will first call init of super class then call init of sub class\n",
        "\n"
      ],
      "metadata": {
        "id": "yGWrHxWQCrbD"
      }
    },
    {
      "cell_type": "code",
      "source": [
        "class A:\n",
        "  def __init__(self):\n",
        "    print('in A init')\n",
        "  def feature1(self):\n",
        "    print('feature 1 working')\n",
        "  def feature2(self):\n",
        "    print('feature 2 working')\n",
        "class B:\n",
        "  def __init__(self):\n",
        "    print('in B init')\n",
        "  def feature3(self):\n",
        "    print('feature 3 working')\n",
        "  def feature4(self):\n",
        "    print('feature 4 working')\n",
        "class C(A,B):\n",
        "  def __init__(self):\n",
        "    super().__init__()\n",
        "    print('in C init')\n",
        "  def feature5(self):\n",
        "    print('feature 5 working')\n",
        "\n",
        "\n",
        "a1=C()\n",
        "\n"
      ],
      "metadata": {
        "colab": {
          "base_uri": "https://localhost:8080/"
        },
        "id": "nYSVir4SDJBr",
        "outputId": "7d0ddf66-ec87-4668-80bf-12ee4d70594b"
      },
      "execution_count": 14,
      "outputs": [
        {
          "output_type": "stream",
          "name": "stdout",
          "text": [
            "in A init\n",
            "in C init\n"
          ]
        }
      ]
    },
    {
      "cell_type": "markdown",
      "source": [
        "here comes the concept of Method Resolution Order Whenever you have Multiple Inheritance it always go from left to right in C(A,B)"
      ],
      "metadata": {
        "id": "d0_gLhRJDsnU"
      }
    },
    {
      "cell_type": "markdown",
      "source": [
        "Polymorphism in Python"
      ],
      "metadata": {
        "id": "8i1XvtofEM0K"
      }
    },
    {
      "cell_type": "markdown",
      "source": [
        "Four types of Polymorphism\n",
        "\n",
        "*   Duck Typing\n",
        "*   Operator Overloading\n",
        "\n",
        "*   Method Overloading\n",
        "*   Method Overriding\n",
        "\n",
        "\n",
        "\n"
      ],
      "metadata": {
        "id": "inxYmiYVEboH"
      }
    },
    {
      "cell_type": "markdown",
      "source": [
        "Duck Typing"
      ],
      "metadata": {
        "id": "jOcxcEz7E_U9"
      }
    },
    {
      "cell_type": "code",
      "source": [],
      "metadata": {
        "id": "VqhNBXV2ERaP"
      },
      "execution_count": null,
      "outputs": []
    },
    {
      "cell_type": "markdown",
      "source": [
        "Operator Overloading"
      ],
      "metadata": {
        "id": "72PUM2toKPbX"
      }
    },
    {
      "cell_type": "code",
      "source": [
        "class Student:\n",
        "  def __init__(self,m1,m2):\n",
        "    self.m1=m1\n",
        "    self.m2=m2\n",
        "  def __add__(self,other):\n",
        "    r1=self.m1+other.m1\n",
        "    r2=self.m2+other.m2\n",
        "    s3=Student(r1,r2)\n",
        "    return s3\n",
        "\n",
        "\n",
        "\n",
        "s1=Student(58,69)\n",
        "s2=Student(60,65)\n",
        "s3=s1+s2\n",
        "print(s3.m1)"
      ],
      "metadata": {
        "colab": {
          "base_uri": "https://localhost:8080/"
        },
        "id": "d6pRvdV9KShS",
        "outputId": "9cd888c0-bfea-41b6-ac15-d36b3575554c"
      },
      "execution_count": 16,
      "outputs": [
        {
          "output_type": "stream",
          "name": "stdout",
          "text": [
            "118\n"
          ]
        }
      ]
    },
    {
      "cell_type": "markdown",
      "source": [
        "Generally integers and strings + operator and addition operation but our class student didn't know what is \"+\""
      ],
      "metadata": {
        "id": "QQxegDSDKi9U"
      }
    },
    {
      "cell_type": "markdown",
      "source": [
        "And for '+' operator there by default it has int.__add__(a,b) so for the class we need to overload the operator by using a method in the class"
      ],
      "metadata": {
        "id": "U-pFkogjKw0w"
      }
    },
    {
      "cell_type": "markdown",
      "source": [
        "The __add__ method has double underscores on both sides because it's a special \"magic\" method in Python that lets you redefine the behavior of the + operator for your objects."
      ],
      "metadata": {
        "id": "MHxW6MztMFDG"
      }
    },
    {
      "cell_type": "markdown",
      "source": [
        "Here are some common magic methods (or \"dunder\" methods) in Python, grouped by category.\n",
        "\n",
        "**Object Initialization and Representation**\n",
        "\n",
        "\n",
        "\n",
        "__init__(self, ...): The constructor, called when an object is created.\n",
        "\n",
        "__str__(self): Defines the \"informal\" string representation of an object. Called by str() and print().\n",
        "\n",
        "__repr__(self): Defines the \"official,\" unambiguous string representation, often used for debugging.\n",
        "\n",
        "__del__(self): The destructor, called when an object is about to be destroyed.\n",
        "\n",
        "**Comparison Operators**\n",
        "\n",
        "\n",
        "__eq__(self, other): Defines behavior for the equality operator, ==.\n",
        "\n",
        "__ne__(self, other): Defines behavior for the inequality operator, !=.\n",
        "\n",
        "__lt__(self, other): Defines behavior for the less-than operator, <.\n",
        "\n",
        "__gt__(self, other): Defines behavior for the greater-than operator, >.\n",
        "\n",
        "__le__(self, other): Defines behavior for the less-than-or-equal-to operator, <=.\n",
        "\n",
        "__ge__(self, other): Defines behavior for the greater-than-or-equal-to operator, >=.\n",
        "\n",
        "**Arithmetic Operators**\n",
        "__add__(self, other): Defines behavior for the addition operator, +.\n",
        "\n",
        "__sub__(self, other): Defines behavior for the subtraction operator, -.\n",
        "\n",
        "__mul__(self, other): Defines behavior for the multiplication operator, *.\n",
        "\n",
        "__truediv__(self, other): Defines behavior for the division operator, /.\n",
        "\n",
        "__floordiv__(self, other): Defines behavior for the integer division operator, //.\n",
        "\n",
        "__mod__(self, other): Defines behavior for the modulo operator, %.\n",
        "\n",
        "**Container Methods**\n",
        "__len__(self): Returns the length of the container. Called by len().\n",
        "\n",
        "__getitem__(self, key): Defines behavior for accessing an item using square bracket notation, like obj[key].\n",
        "\n",
        "__setitem__(self, key, value): Defines behavior for assigning a value to an item, like obj[key] = value.\n",
        "\n"
      ],
      "metadata": {
        "id": "AOA718XQMGq8"
      }
    },
    {
      "cell_type": "code",
      "source": [
        "class Student:\n",
        "  def __init__(self,m1,m2):\n",
        "    self.m1=m1\n",
        "    self.m2=m2\n",
        "  def __add__(self,other):\n",
        "    r1=self.m1+other.m1\n",
        "    r2=self.m2+other.m2\n",
        "    s3=Student(r1,r2)\n",
        "    return s3\n",
        "  def __gt__(self,other):\n",
        "    r1=self.m1+self.m2\n",
        "    r2=other.m1+other.m2\n",
        "    if r1>r2:\n",
        "      return True\n",
        "    else:\n",
        "      return False\n",
        "\n",
        "\n",
        "\n",
        "s1=Student(58,69)\n",
        "s2=Student(60,65)\n",
        "s3=s1+s2\n",
        "print(s3.m1)\n",
        "if s1>s2:\n",
        "  print('s1 wins')\n",
        "else:\n",
        "  print('s2 wins')\n"
      ],
      "metadata": {
        "colab": {
          "base_uri": "https://localhost:8080/"
        },
        "id": "8mEToKYCMkbC",
        "outputId": "b23aae76-945a-45e8-f521-38ef899ba04c"
      },
      "execution_count": 17,
      "outputs": [
        {
          "output_type": "stream",
          "name": "stdout",
          "text": [
            "118\n",
            "s1 wins\n",
            "118\n"
          ]
        }
      ]
    },
    {
      "cell_type": "code",
      "source": [
        "a=9\n",
        "print(a)"
      ],
      "metadata": {
        "colab": {
          "base_uri": "https://localhost:8080/"
        },
        "id": "Fzn8tNoqNuf4",
        "outputId": "f773bbaf-0c80-4695-e398-cd7991cd8662"
      },
      "execution_count": 18,
      "outputs": [
        {
          "output_type": "stream",
          "name": "stdout",
          "text": [
            "9\n"
          ]
        }
      ]
    },
    {
      "cell_type": "code",
      "source": [
        "print(s1)"
      ],
      "metadata": {
        "colab": {
          "base_uri": "https://localhost:8080/"
        },
        "id": "Xg8z_tyYOJYb",
        "outputId": "282f8abb-a711-4ee9-868a-6966d5256519"
      },
      "execution_count": 21,
      "outputs": [
        {
          "output_type": "stream",
          "name": "stdout",
          "text": [
            "<__main__.Student object at 0x78dbc0ebf590>\n"
          ]
        }
      ]
    },
    {
      "cell_type": "code",
      "source": [
        "print(s1.__str__())"
      ],
      "metadata": {
        "colab": {
          "base_uri": "https://localhost:8080/"
        },
        "id": "H3UhM4FPNzii",
        "outputId": "3417151e-4e7a-465d-9e21-ea05be58ec5c"
      },
      "execution_count": 20,
      "outputs": [
        {
          "output_type": "stream",
          "name": "stdout",
          "text": [
            "<__main__.Student object at 0x78dbc0ebf590>\n"
          ]
        }
      ]
    },
    {
      "cell_type": "markdown",
      "source": [
        "here if you see when you declare a=9 and tried to print it you got 9 but when you tied to print object s1 it is printing the addresss"
      ],
      "metadata": {
        "id": "jviBVAR3N2M1"
      }
    },
    {
      "cell_type": "markdown",
      "source": [
        "cause our object doesn't know about the method __str__() which is used to print so now again we need to redefine the magic method __str__() to our class Student"
      ],
      "metadata": {
        "id": "KDQEclfjOQ7p"
      }
    },
    {
      "cell_type": "code",
      "source": [
        "class Student:\n",
        "  def __init__(self,m1,m2):\n",
        "    self.m1=m1\n",
        "    self.m2=m2\n",
        "  def __add__(self,other):\n",
        "    r1=self.m1+other.m1\n",
        "    r2=self.m2+other.m2\n",
        "    s3=Student(r1,r2)\n",
        "    return s3\n",
        "  def __gt__(self,other):\n",
        "    r1=self.m1+self.m2\n",
        "    r2=other.m1+other.m2\n",
        "    if r1>r2:\n",
        "      return True\n",
        "    else:\n",
        "      return False\n",
        "  def __str__(self):\n",
        "    return '{} {}'.format(self.m1,self.m2)\n",
        "\n",
        "\n",
        "\n",
        "s1=Student(58,69)\n",
        "s2=Student(60,65)\n",
        "s3=s1+s2\n",
        "print(s3.m1)\n",
        "if s1>s2:\n",
        "  print('s1 wins')\n",
        "else:\n",
        "  print('s2 wins')\n",
        "print(s1)"
      ],
      "metadata": {
        "colab": {
          "base_uri": "https://localhost:8080/"
        },
        "id": "1C-Kr9rmOgnW",
        "outputId": "1c713ff9-6dcf-4508-cce1-b3f24de5a683"
      },
      "execution_count": 22,
      "outputs": [
        {
          "output_type": "stream",
          "name": "stdout",
          "text": [
            "118\n",
            "s1 wins\n",
            "58 69\n"
          ]
        }
      ]
    },
    {
      "cell_type": "markdown",
      "source": [
        "in Operator overloading You have same method name but arguments are different i.e., the no of argumemts or type of arguments are different"
      ],
      "metadata": {
        "id": "tCEF6opjO40_"
      }
    },
    {
      "cell_type": "markdown",
      "source": [
        "Method overloading and Method overriding in Python"
      ],
      "metadata": {
        "id": "A17kAnrKOzLi"
      }
    },
    {
      "cell_type": "markdown",
      "source": [
        "Method overloading is having the methods with same name but with different no of arguments. In python we don't have method overloading concept"
      ],
      "metadata": {
        "id": "YJxB8tQ-Prh-"
      }
    },
    {
      "cell_type": "markdown",
      "source": [
        "Python doesn't support traditional method overloading because it's a dynamically typed language.\n",
        "\n",
        "**Why It Doesn't Work**\n",
        "\n",
        "In languages like Java or C++, the compiler knows the specific type and number of arguments a method expects. It can therefore distinguish between add(int, int) and add(int, int, int).\n",
        "\n",
        "In Python, types are not declared beforehand. When you define a method, the interpreter only recognizes the most recent definition with that name. If you define two methods with the same name, the second one simply overwrites the first."
      ],
      "metadata": {
        "id": "Mb6TMXTlQTzD"
      }
    },
    {
      "cell_type": "markdown",
      "source": [
        "Method Overriding in Python"
      ],
      "metadata": {
        "id": "wX4jRiVTQbFJ"
      }
    },
    {
      "cell_type": "code",
      "source": [
        "class A:\n",
        "  def show(self):\n",
        "    print('in A Show')\n",
        "\n",
        "\n",
        "class B:\n",
        "  pass\n",
        "\n",
        "\n",
        "\n",
        "a1=B()\n",
        "a1.show()\n"
      ],
      "metadata": {
        "colab": {
          "base_uri": "https://localhost:8080/",
          "height": 176
        },
        "id": "V67D1gtfPSay",
        "outputId": "6f450481-92ef-499e-bafb-02c0b55987f1"
      },
      "execution_count": 7,
      "outputs": [
        {
          "output_type": "error",
          "ename": "AttributeError",
          "evalue": "'B' object has no attribute 'show'",
          "traceback": [
            "\u001b[0;31m---------------------------------------------------------------------------\u001b[0m",
            "\u001b[0;31mAttributeError\u001b[0m                            Traceback (most recent call last)",
            "\u001b[0;32m/tmp/ipython-input-7-3389154642.py\u001b[0m in \u001b[0;36m<cell line: 0>\u001b[0;34m()\u001b[0m\n\u001b[1;32m     10\u001b[0m \u001b[0;34m\u001b[0m\u001b[0m\n\u001b[1;32m     11\u001b[0m \u001b[0ma1\u001b[0m\u001b[0;34m=\u001b[0m\u001b[0mB\u001b[0m\u001b[0;34m(\u001b[0m\u001b[0;34m)\u001b[0m\u001b[0;34m\u001b[0m\u001b[0;34m\u001b[0m\u001b[0m\n\u001b[0;32m---> 12\u001b[0;31m \u001b[0ma1\u001b[0m\u001b[0;34m.\u001b[0m\u001b[0mshow\u001b[0m\u001b[0;34m(\u001b[0m\u001b[0;34m)\u001b[0m\u001b[0;34m\u001b[0m\u001b[0;34m\u001b[0m\u001b[0m\n\u001b[0m",
            "\u001b[0;31mAttributeError\u001b[0m: 'B' object has no attribute 'show'"
          ]
        }
      ]
    },
    {
      "cell_type": "code",
      "source": [
        "class A:\n",
        "  def show(self):\n",
        "    print('in A Show')\n",
        "\n",
        "\n",
        "class B(A):\n",
        "  def show(self):\n",
        "    print('in B Show')\n",
        "\n",
        "\n",
        "\n",
        "a1=B()\n",
        "a1.show()"
      ],
      "metadata": {
        "colab": {
          "base_uri": "https://localhost:8080/"
        },
        "id": "DCgyOQi_blXU",
        "outputId": "40bda424-31d0-4dc3-ddc3-a1fa60c315fb"
      },
      "execution_count": 8,
      "outputs": [
        {
          "output_type": "stream",
          "name": "stdout",
          "text": [
            "in B Show\n"
          ]
        }
      ]
    }
  ]
}